{
 "cells": [
  {
   "cell_type": "code",
   "execution_count": 68,
   "id": "97de9a0a",
   "metadata": {},
   "outputs": [],
   "source": [
    "import pandas as pd\n",
    "from sklearn.metrics import accuracy_score\n",
    "from sklearn.metrics import confusion_matrix\n",
    "from sklearn.metrics import f1_score"
   ]
  },
  {
   "cell_type": "code",
   "execution_count": 69,
   "id": "1087caa4",
   "metadata": {},
   "outputs": [],
   "source": [
    "t1 = pd.read_csv('./Scores/score_true_1.csv')\n",
    "t2 = pd.read_csv('./Scores/score_true_2.csv')\n",
    "t3 = pd.read_csv('./Scores/score_true_3.csv')\n",
    "t4 = pd.read_csv('./Scores/score_true_4.csv')\n",
    "t5 = pd.read_csv('./Scores/score_true_5.csv')"
   ]
  },
  {
   "cell_type": "code",
   "execution_count": 70,
   "id": "c3983209",
   "metadata": {},
   "outputs": [],
   "source": [
    "t = t1.append(t2, ignore_index=True)\n",
    "t = t.append(t3, ignore_index=True)\n",
    "t = t.append(t4, ignore_index=True)\n",
    "t = t.append(t5, ignore_index=True)"
   ]
  },
  {
   "cell_type": "code",
   "execution_count": 71,
   "id": "345d6374",
   "metadata": {},
   "outputs": [],
   "source": [
    "f1 = pd.read_csv('./Scores/score_fake_1.csv')\n",
    "f2 = pd.read_csv('./Scores/score_fake_2.csv')\n",
    "f3 = pd.read_csv('./Scores/score_fake_3.csv')\n",
    "f4 = pd.read_csv('./Scores/score_fake_4.csv')\n",
    "f5 = pd.read_csv('./Scores/score_fake_5_final.csv')"
   ]
  },
  {
   "cell_type": "code",
   "execution_count": 72,
   "id": "e8e1ad5b",
   "metadata": {},
   "outputs": [],
   "source": [
    "f = f1.append(f2, ignore_index=True)\n",
    "f = f.append(f3, ignore_index=True)\n",
    "f = f.append(f4, ignore_index=True)\n",
    "f = f.append(f5, ignore_index=True)"
   ]
  },
  {
   "cell_type": "code",
   "execution_count": 73,
   "id": "b1518a90",
   "metadata": {},
   "outputs": [
    {
     "data": {
      "text/html": [
       "<div>\n",
       "<style scoped>\n",
       "    .dataframe tbody tr th:only-of-type {\n",
       "        vertical-align: middle;\n",
       "    }\n",
       "\n",
       "    .dataframe tbody tr th {\n",
       "        vertical-align: top;\n",
       "    }\n",
       "\n",
       "    .dataframe thead th {\n",
       "        text-align: right;\n",
       "    }\n",
       "</style>\n",
       "<table border=\"1\" class=\"dataframe\">\n",
       "  <thead>\n",
       "    <tr style=\"text-align: right;\">\n",
       "      <th></th>\n",
       "      <th>metric1_score_true</th>\n",
       "      <th>sentence_bleu_score_true</th>\n",
       "      <th>sbertSimilarity_score_true</th>\n",
       "    </tr>\n",
       "  </thead>\n",
       "  <tbody>\n",
       "    <tr>\n",
       "      <th>0</th>\n",
       "      <td>72.727273</td>\n",
       "      <td>0.727273</td>\n",
       "      <td>0.953870</td>\n",
       "    </tr>\n",
       "    <tr>\n",
       "      <th>1</th>\n",
       "      <td>36.363636</td>\n",
       "      <td>0.363636</td>\n",
       "      <td>0.774581</td>\n",
       "    </tr>\n",
       "    <tr>\n",
       "      <th>2</th>\n",
       "      <td>63.636364</td>\n",
       "      <td>0.636364</td>\n",
       "      <td>0.784848</td>\n",
       "    </tr>\n",
       "    <tr>\n",
       "      <th>3</th>\n",
       "      <td>35.714286</td>\n",
       "      <td>0.357143</td>\n",
       "      <td>0.656921</td>\n",
       "    </tr>\n",
       "    <tr>\n",
       "      <th>4</th>\n",
       "      <td>50.000000</td>\n",
       "      <td>0.500000</td>\n",
       "      <td>0.835293</td>\n",
       "    </tr>\n",
       "    <tr>\n",
       "      <th>...</th>\n",
       "      <td>...</td>\n",
       "      <td>...</td>\n",
       "      <td>...</td>\n",
       "    </tr>\n",
       "    <tr>\n",
       "      <th>491</th>\n",
       "      <td>50.000000</td>\n",
       "      <td>0.500000</td>\n",
       "      <td>0.862707</td>\n",
       "    </tr>\n",
       "    <tr>\n",
       "      <th>492</th>\n",
       "      <td>50.000000</td>\n",
       "      <td>0.500000</td>\n",
       "      <td>0.914262</td>\n",
       "    </tr>\n",
       "    <tr>\n",
       "      <th>493</th>\n",
       "      <td>50.000000</td>\n",
       "      <td>0.500000</td>\n",
       "      <td>0.962881</td>\n",
       "    </tr>\n",
       "    <tr>\n",
       "      <th>494</th>\n",
       "      <td>50.000000</td>\n",
       "      <td>0.500000</td>\n",
       "      <td>0.759484</td>\n",
       "    </tr>\n",
       "    <tr>\n",
       "      <th>495</th>\n",
       "      <td>52.941176</td>\n",
       "      <td>0.529412</td>\n",
       "      <td>0.830213</td>\n",
       "    </tr>\n",
       "  </tbody>\n",
       "</table>\n",
       "<p>496 rows × 3 columns</p>\n",
       "</div>"
      ],
      "text/plain": [
       "     metric1_score_true  sentence_bleu_score_true  sbertSimilarity_score_true\n",
       "0             72.727273                  0.727273                    0.953870\n",
       "1             36.363636                  0.363636                    0.774581\n",
       "2             63.636364                  0.636364                    0.784848\n",
       "3             35.714286                  0.357143                    0.656921\n",
       "4             50.000000                  0.500000                    0.835293\n",
       "..                  ...                       ...                         ...\n",
       "491           50.000000                  0.500000                    0.862707\n",
       "492           50.000000                  0.500000                    0.914262\n",
       "493           50.000000                  0.500000                    0.962881\n",
       "494           50.000000                  0.500000                    0.759484\n",
       "495           52.941176                  0.529412                    0.830213\n",
       "\n",
       "[496 rows x 3 columns]"
      ]
     },
     "execution_count": 73,
     "metadata": {},
     "output_type": "execute_result"
    }
   ],
   "source": [
    "t"
   ]
  },
  {
   "cell_type": "code",
   "execution_count": 74,
   "id": "4e127500",
   "metadata": {},
   "outputs": [
    {
     "data": {
      "text/html": [
       "<div>\n",
       "<style scoped>\n",
       "    .dataframe tbody tr th:only-of-type {\n",
       "        vertical-align: middle;\n",
       "    }\n",
       "\n",
       "    .dataframe tbody tr th {\n",
       "        vertical-align: top;\n",
       "    }\n",
       "\n",
       "    .dataframe thead th {\n",
       "        text-align: right;\n",
       "    }\n",
       "</style>\n",
       "<table border=\"1\" class=\"dataframe\">\n",
       "  <thead>\n",
       "    <tr style=\"text-align: right;\">\n",
       "      <th></th>\n",
       "      <th>metric1_score_true</th>\n",
       "      <th>sentence_bleu_score_true</th>\n",
       "      <th>sbertSimilarity_score_true</th>\n",
       "    </tr>\n",
       "  </thead>\n",
       "  <tbody>\n",
       "    <tr>\n",
       "      <th>0</th>\n",
       "      <td>7.692308</td>\n",
       "      <td>0.076923</td>\n",
       "      <td>0.466115</td>\n",
       "    </tr>\n",
       "    <tr>\n",
       "      <th>1</th>\n",
       "      <td>0.000000</td>\n",
       "      <td>0.000000</td>\n",
       "      <td>0.473237</td>\n",
       "    </tr>\n",
       "    <tr>\n",
       "      <th>2</th>\n",
       "      <td>11.111111</td>\n",
       "      <td>0.111111</td>\n",
       "      <td>0.431902</td>\n",
       "    </tr>\n",
       "    <tr>\n",
       "      <th>3</th>\n",
       "      <td>0.000000</td>\n",
       "      <td>0.000000</td>\n",
       "      <td>0.458282</td>\n",
       "    </tr>\n",
       "    <tr>\n",
       "      <th>4</th>\n",
       "      <td>0.000000</td>\n",
       "      <td>0.052632</td>\n",
       "      <td>0.428630</td>\n",
       "    </tr>\n",
       "    <tr>\n",
       "      <th>...</th>\n",
       "      <td>...</td>\n",
       "      <td>...</td>\n",
       "      <td>...</td>\n",
       "    </tr>\n",
       "    <tr>\n",
       "      <th>435</th>\n",
       "      <td>18.181818</td>\n",
       "      <td>0.181818</td>\n",
       "      <td>0.551623</td>\n",
       "    </tr>\n",
       "    <tr>\n",
       "      <th>436</th>\n",
       "      <td>0.000000</td>\n",
       "      <td>0.000000</td>\n",
       "      <td>0.569780</td>\n",
       "    </tr>\n",
       "    <tr>\n",
       "      <th>437</th>\n",
       "      <td>0.000000</td>\n",
       "      <td>0.000000</td>\n",
       "      <td>0.386376</td>\n",
       "    </tr>\n",
       "    <tr>\n",
       "      <th>438</th>\n",
       "      <td>0.000000</td>\n",
       "      <td>0.000000</td>\n",
       "      <td>0.446706</td>\n",
       "    </tr>\n",
       "    <tr>\n",
       "      <th>439</th>\n",
       "      <td>0.000000</td>\n",
       "      <td>0.000000</td>\n",
       "      <td>0.340005</td>\n",
       "    </tr>\n",
       "  </tbody>\n",
       "</table>\n",
       "<p>440 rows × 3 columns</p>\n",
       "</div>"
      ],
      "text/plain": [
       "     metric1_score_true  sentence_bleu_score_true  sbertSimilarity_score_true\n",
       "0              7.692308                  0.076923                    0.466115\n",
       "1              0.000000                  0.000000                    0.473237\n",
       "2             11.111111                  0.111111                    0.431902\n",
       "3              0.000000                  0.000000                    0.458282\n",
       "4              0.000000                  0.052632                    0.428630\n",
       "..                  ...                       ...                         ...\n",
       "435           18.181818                  0.181818                    0.551623\n",
       "436            0.000000                  0.000000                    0.569780\n",
       "437            0.000000                  0.000000                    0.386376\n",
       "438            0.000000                  0.000000                    0.446706\n",
       "439            0.000000                  0.000000                    0.340005\n",
       "\n",
       "[440 rows x 3 columns]"
      ]
     },
     "execution_count": 74,
     "metadata": {},
     "output_type": "execute_result"
    }
   ],
   "source": [
    "f"
   ]
  },
  {
   "cell_type": "code",
   "execution_count": 75,
   "id": "e76c9435",
   "metadata": {},
   "outputs": [
    {
     "data": {
      "text/html": [
       "<div>\n",
       "<style scoped>\n",
       "    .dataframe tbody tr th:only-of-type {\n",
       "        vertical-align: middle;\n",
       "    }\n",
       "\n",
       "    .dataframe tbody tr th {\n",
       "        vertical-align: top;\n",
       "    }\n",
       "\n",
       "    .dataframe thead th {\n",
       "        text-align: right;\n",
       "    }\n",
       "</style>\n",
       "<table border=\"1\" class=\"dataframe\">\n",
       "  <thead>\n",
       "    <tr style=\"text-align: right;\">\n",
       "      <th></th>\n",
       "      <th>metric1_score_true</th>\n",
       "      <th>sentence_bleu_score_true</th>\n",
       "      <th>sbertSimilarity_score_true</th>\n",
       "    </tr>\n",
       "  </thead>\n",
       "  <tbody>\n",
       "    <tr>\n",
       "      <th>count</th>\n",
       "      <td>100.000000</td>\n",
       "      <td>100.000000</td>\n",
       "      <td>100.000000</td>\n",
       "    </tr>\n",
       "    <tr>\n",
       "      <th>mean</th>\n",
       "      <td>6.287560</td>\n",
       "      <td>0.083885</td>\n",
       "      <td>0.491505</td>\n",
       "    </tr>\n",
       "    <tr>\n",
       "      <th>std</th>\n",
       "      <td>9.184170</td>\n",
       "      <td>0.107337</td>\n",
       "      <td>0.091844</td>\n",
       "    </tr>\n",
       "    <tr>\n",
       "      <th>min</th>\n",
       "      <td>0.000000</td>\n",
       "      <td>0.000000</td>\n",
       "      <td>0.252077</td>\n",
       "    </tr>\n",
       "    <tr>\n",
       "      <th>25%</th>\n",
       "      <td>0.000000</td>\n",
       "      <td>0.000000</td>\n",
       "      <td>0.434090</td>\n",
       "    </tr>\n",
       "    <tr>\n",
       "      <th>50%</th>\n",
       "      <td>0.000000</td>\n",
       "      <td>0.064583</td>\n",
       "      <td>0.483122</td>\n",
       "    </tr>\n",
       "    <tr>\n",
       "      <th>75%</th>\n",
       "      <td>10.131579</td>\n",
       "      <td>0.125000</td>\n",
       "      <td>0.540091</td>\n",
       "    </tr>\n",
       "    <tr>\n",
       "      <th>max</th>\n",
       "      <td>38.461538</td>\n",
       "      <td>0.461538</td>\n",
       "      <td>0.760253</td>\n",
       "    </tr>\n",
       "  </tbody>\n",
       "</table>\n",
       "</div>"
      ],
      "text/plain": [
       "       metric1_score_true  sentence_bleu_score_true  \\\n",
       "count          100.000000                100.000000   \n",
       "mean             6.287560                  0.083885   \n",
       "std              9.184170                  0.107337   \n",
       "min              0.000000                  0.000000   \n",
       "25%              0.000000                  0.000000   \n",
       "50%              0.000000                  0.064583   \n",
       "75%             10.131579                  0.125000   \n",
       "max             38.461538                  0.461538   \n",
       "\n",
       "       sbertSimilarity_score_true  \n",
       "count                  100.000000  \n",
       "mean                     0.491505  \n",
       "std                      0.091844  \n",
       "min                      0.252077  \n",
       "25%                      0.434090  \n",
       "50%                      0.483122  \n",
       "75%                      0.540091  \n",
       "max                      0.760253  "
      ]
     },
     "execution_count": 75,
     "metadata": {},
     "output_type": "execute_result"
    }
   ],
   "source": [
    "f[:100].describe()"
   ]
  },
  {
   "cell_type": "code",
   "execution_count": 76,
   "id": "d8d7dc19",
   "metadata": {},
   "outputs": [
    {
     "data": {
      "text/html": [
       "<div>\n",
       "<style scoped>\n",
       "    .dataframe tbody tr th:only-of-type {\n",
       "        vertical-align: middle;\n",
       "    }\n",
       "\n",
       "    .dataframe tbody tr th {\n",
       "        vertical-align: top;\n",
       "    }\n",
       "\n",
       "    .dataframe thead th {\n",
       "        text-align: right;\n",
       "    }\n",
       "</style>\n",
       "<table border=\"1\" class=\"dataframe\">\n",
       "  <thead>\n",
       "    <tr style=\"text-align: right;\">\n",
       "      <th></th>\n",
       "      <th>metric1_score_true</th>\n",
       "      <th>sentence_bleu_score_true</th>\n",
       "      <th>sbertSimilarity_score_true</th>\n",
       "    </tr>\n",
       "  </thead>\n",
       "  <tbody>\n",
       "    <tr>\n",
       "      <th>count</th>\n",
       "      <td>100.000000</td>\n",
       "      <td>100.000000</td>\n",
       "      <td>100.000000</td>\n",
       "    </tr>\n",
       "    <tr>\n",
       "      <th>mean</th>\n",
       "      <td>57.567910</td>\n",
       "      <td>0.580606</td>\n",
       "      <td>0.836687</td>\n",
       "    </tr>\n",
       "    <tr>\n",
       "      <th>std</th>\n",
       "      <td>21.206250</td>\n",
       "      <td>0.209736</td>\n",
       "      <td>0.120010</td>\n",
       "    </tr>\n",
       "    <tr>\n",
       "      <th>min</th>\n",
       "      <td>0.000000</td>\n",
       "      <td>0.000000</td>\n",
       "      <td>0.406675</td>\n",
       "    </tr>\n",
       "    <tr>\n",
       "      <th>25%</th>\n",
       "      <td>46.153846</td>\n",
       "      <td>0.471930</td>\n",
       "      <td>0.783584</td>\n",
       "    </tr>\n",
       "    <tr>\n",
       "      <th>50%</th>\n",
       "      <td>57.738095</td>\n",
       "      <td>0.577381</td>\n",
       "      <td>0.845073</td>\n",
       "    </tr>\n",
       "    <tr>\n",
       "      <th>75%</th>\n",
       "      <td>66.666667</td>\n",
       "      <td>0.673077</td>\n",
       "      <td>0.922729</td>\n",
       "    </tr>\n",
       "    <tr>\n",
       "      <th>max</th>\n",
       "      <td>100.000000</td>\n",
       "      <td>1.000000</td>\n",
       "      <td>1.000000</td>\n",
       "    </tr>\n",
       "  </tbody>\n",
       "</table>\n",
       "</div>"
      ],
      "text/plain": [
       "       metric1_score_true  sentence_bleu_score_true  \\\n",
       "count          100.000000                100.000000   \n",
       "mean            57.567910                  0.580606   \n",
       "std             21.206250                  0.209736   \n",
       "min              0.000000                  0.000000   \n",
       "25%             46.153846                  0.471930   \n",
       "50%             57.738095                  0.577381   \n",
       "75%             66.666667                  0.673077   \n",
       "max            100.000000                  1.000000   \n",
       "\n",
       "       sbertSimilarity_score_true  \n",
       "count                  100.000000  \n",
       "mean                     0.836687  \n",
       "std                      0.120010  \n",
       "min                      0.406675  \n",
       "25%                      0.783584  \n",
       "50%                      0.845073  \n",
       "75%                      0.922729  \n",
       "max                      1.000000  "
      ]
     },
     "execution_count": 76,
     "metadata": {},
     "output_type": "execute_result"
    }
   ],
   "source": [
    "t[:100].describe()"
   ]
  },
  {
   "cell_type": "code",
   "execution_count": 77,
   "id": "f87c57a9",
   "metadata": {},
   "outputs": [],
   "source": [
    "label = []\n",
    "gt = []\n",
    "thresh = 0.65\n",
    "for idx in range(len(t)):\n",
    "    gt.append(1)\n",
    "#     print(t['sbertSimilarity_score_true'][idx])\n",
    "    if t['sbertSimilarity_score_true'][idx] > thresh:\n",
    "        label.append(1)\n",
    "    else:\n",
    "        label.append(0)"
   ]
  },
  {
   "cell_type": "code",
   "execution_count": 78,
   "id": "bec7eee4",
   "metadata": {},
   "outputs": [],
   "source": [
    "for idx in range(len(f)):\n",
    "    gt.append(0)\n",
    "#     print(f['sbertSimilarity_score_true'][idx])\n",
    "    if f['sbertSimilarity_score_true'][idx] > thresh:\n",
    "        label.append(1)\n",
    "    else:\n",
    "        label.append(0)"
   ]
  },
  {
   "cell_type": "code",
   "execution_count": 79,
   "id": "f5f28f00",
   "metadata": {},
   "outputs": [
    {
     "data": {
      "text/plain": [
       "(936, 936)"
      ]
     },
     "execution_count": 79,
     "metadata": {},
     "output_type": "execute_result"
    }
   ],
   "source": [
    "len(label), len(gt)"
   ]
  },
  {
   "cell_type": "code",
   "execution_count": 80,
   "id": "d019088d",
   "metadata": {},
   "outputs": [
    {
     "data": {
      "text/plain": [
       "(488, 496)"
      ]
     },
     "execution_count": 80,
     "metadata": {},
     "output_type": "execute_result"
    }
   ],
   "source": [
    "sum(label), sum(gt)"
   ]
  },
  {
   "cell_type": "code",
   "execution_count": null,
   "id": "2ae2c621",
   "metadata": {},
   "outputs": [],
   "source": []
  },
  {
   "cell_type": "code",
   "execution_count": 81,
   "id": "badd0d8e",
   "metadata": {},
   "outputs": [],
   "source": [
    "import matplotlib.pyplot as plt\n",
    "import numpy as np"
   ]
  },
  {
   "cell_type": "code",
   "execution_count": 82,
   "id": "db1b46bd",
   "metadata": {},
   "outputs": [
    {
     "data": {
      "image/png": "[encoded data removed]",
      "text/plain": [
       "<Figure size 432x288 with 1 Axes>"
      ]
     },
     "metadata": {
      "needs_background": "light"
     },
     "output_type": "display_data"
    }
   ],
   "source": [
    "plt.hist(t['sbertSimilarity_score_true'], bins=50)\n",
    "plt.savefig('true_plot.pdf')\n",
    "plt.title(\"Score distribution of True points in dataset 1\")\n",
    "plt.show()"
   ]
  },
  {
   "cell_type": "code",
   "execution_count": 83,
   "id": "7e37cbd9",
   "metadata": {},
   "outputs": [
    {
     "data": {
      "image/png": "[encoded data removed]",
      "text/plain": [
       "<Figure size 432x288 with 1 Axes>"
      ]
     },
     "metadata": {
      "needs_background": "light"
     },
     "output_type": "display_data"
    }
   ],
   "source": [
    "plt.hist(f['sbertSimilarity_score_true'], bins=50)\n",
    "plt.savefig('false_plot.pdf')\n",
    "plt.title(\"Score distribution of False points in dataset 1\")\n",
    "plt.show()"
   ]
  },
  {
   "cell_type": "markdown",
   "id": "c89102e0",
   "metadata": {},
   "source": [
    "# Dataset 2"
   ]
  },
  {
   "cell_type": "code",
   "execution_count": 53,
   "id": "8101e0f6",
   "metadata": {},
   "outputs": [],
   "source": [
    "test1 = pd.read_csv('./Scores/score_test_part_1.csv')\n",
    "test2 = pd.read_csv('./Scores/score_test_part_2.csv')\n",
    "test3 = pd.read_csv('./Scores/score_test_3.csv')"
   ]
  },
  {
   "cell_type": "code",
   "execution_count": 54,
   "id": "a65ca2af",
   "metadata": {},
   "outputs": [],
   "source": [
    "test3.rename(columns = {'Label':'label'}, inplace = True)\n"
   ]
  },
  {
   "cell_type": "code",
   "execution_count": 55,
   "id": "73e69be4",
   "metadata": {},
   "outputs": [],
   "source": [
    "test = test1.append(test2, ignore_index=True)\n",
    "test = test.append(test3, ignore_index=True)"
   ]
  },
  {
   "cell_type": "code",
   "execution_count": 56,
   "id": "5dfbb0e5",
   "metadata": {},
   "outputs": [
    {
     "data": {
      "text/plain": [
       "15"
      ]
     },
     "execution_count": 56,
     "metadata": {},
     "output_type": "execute_result"
    }
   ],
   "source": [
    "sum(test['sbertSimilarity_score'] == -1)"
   ]
  },
  {
   "cell_type": "code",
   "execution_count": 57,
   "id": "aacb9ffe",
   "metadata": {},
   "outputs": [
    {
     "data": {
      "text/html": [
       "<div>\n",
       "<style scoped>\n",
       "    .dataframe tbody tr th:only-of-type {\n",
       "        vertical-align: middle;\n",
       "    }\n",
       "\n",
       "    .dataframe tbody tr th {\n",
       "        vertical-align: top;\n",
       "    }\n",
       "\n",
       "    .dataframe thead th {\n",
       "        text-align: right;\n",
       "    }\n",
       "</style>\n",
       "<table border=\"1\" class=\"dataframe\">\n",
       "  <thead>\n",
       "    <tr style=\"text-align: right;\">\n",
       "      <th></th>\n",
       "      <th>index</th>\n",
       "      <th>metric1_score</th>\n",
       "      <th>sentence_bleu_score</th>\n",
       "      <th>sbertSimilarity_score</th>\n",
       "      <th>label</th>\n",
       "    </tr>\n",
       "  </thead>\n",
       "  <tbody>\n",
       "    <tr>\n",
       "      <th>0</th>\n",
       "      <td>0</td>\n",
       "      <td>11.111111</td>\n",
       "      <td>0.111111</td>\n",
       "      <td>0.464764</td>\n",
       "      <td>0</td>\n",
       "    </tr>\n",
       "    <tr>\n",
       "      <th>1</th>\n",
       "      <td>1</td>\n",
       "      <td>0.000000</td>\n",
       "      <td>0.000000</td>\n",
       "      <td>0.448631</td>\n",
       "      <td>0</td>\n",
       "    </tr>\n",
       "    <tr>\n",
       "      <th>2</th>\n",
       "      <td>2</td>\n",
       "      <td>14.285714</td>\n",
       "      <td>0.214286</td>\n",
       "      <td>0.478942</td>\n",
       "      <td>0</td>\n",
       "    </tr>\n",
       "    <tr>\n",
       "      <th>3</th>\n",
       "      <td>3</td>\n",
       "      <td>0.000000</td>\n",
       "      <td>0.000000</td>\n",
       "      <td>0.520089</td>\n",
       "      <td>0</td>\n",
       "    </tr>\n",
       "    <tr>\n",
       "      <th>4</th>\n",
       "      <td>4</td>\n",
       "      <td>0.000000</td>\n",
       "      <td>0.000000</td>\n",
       "      <td>0.468685</td>\n",
       "      <td>0</td>\n",
       "    </tr>\n",
       "    <tr>\n",
       "      <th>...</th>\n",
       "      <td>...</td>\n",
       "      <td>...</td>\n",
       "      <td>...</td>\n",
       "      <td>...</td>\n",
       "      <td>...</td>\n",
       "    </tr>\n",
       "    <tr>\n",
       "      <th>376</th>\n",
       "      <td>391</td>\n",
       "      <td>0.000000</td>\n",
       "      <td>0.000000</td>\n",
       "      <td>0.566354</td>\n",
       "      <td>0</td>\n",
       "    </tr>\n",
       "    <tr>\n",
       "      <th>377</th>\n",
       "      <td>392</td>\n",
       "      <td>0.000000</td>\n",
       "      <td>0.000000</td>\n",
       "      <td>0.521470</td>\n",
       "      <td>0</td>\n",
       "    </tr>\n",
       "    <tr>\n",
       "      <th>378</th>\n",
       "      <td>393</td>\n",
       "      <td>41.666667</td>\n",
       "      <td>0.416667</td>\n",
       "      <td>0.741199</td>\n",
       "      <td>0</td>\n",
       "    </tr>\n",
       "    <tr>\n",
       "      <th>379</th>\n",
       "      <td>394</td>\n",
       "      <td>0.000000</td>\n",
       "      <td>0.000000</td>\n",
       "      <td>0.469852</td>\n",
       "      <td>1</td>\n",
       "    </tr>\n",
       "    <tr>\n",
       "      <th>380</th>\n",
       "      <td>395</td>\n",
       "      <td>0.000000</td>\n",
       "      <td>0.000000</td>\n",
       "      <td>0.494886</td>\n",
       "      <td>0</td>\n",
       "    </tr>\n",
       "  </tbody>\n",
       "</table>\n",
       "<p>381 rows × 5 columns</p>\n",
       "</div>"
      ],
      "text/plain": [
       "     index  metric1_score  sentence_bleu_score  sbertSimilarity_score  label\n",
       "0        0      11.111111             0.111111               0.464764      0\n",
       "1        1       0.000000             0.000000               0.448631      0\n",
       "2        2      14.285714             0.214286               0.478942      0\n",
       "3        3       0.000000             0.000000               0.520089      0\n",
       "4        4       0.000000             0.000000               0.468685      0\n",
       "..     ...            ...                  ...                    ...    ...\n",
       "376    391       0.000000             0.000000               0.566354      0\n",
       "377    392       0.000000             0.000000               0.521470      0\n",
       "378    393      41.666667             0.416667               0.741199      0\n",
       "379    394       0.000000             0.000000               0.469852      1\n",
       "380    395       0.000000             0.000000               0.494886      0\n",
       "\n",
       "[381 rows x 5 columns]"
      ]
     },
     "execution_count": 57,
     "metadata": {},
     "output_type": "execute_result"
    }
   ],
   "source": [
    "test = test[test['sbertSimilarity_score'] != -1].reset_index()\n",
    "test"
   ]
  },
  {
   "cell_type": "code",
   "execution_count": null,
   "id": "44acc00d",
   "metadata": {},
   "outputs": [],
   "source": []
  },
  {
   "cell_type": "code",
   "execution_count": 58,
   "id": "9344ff86",
   "metadata": {},
   "outputs": [
    {
     "data": {
      "image/png": "[encoded data removed]",
      "text/plain": [
       "<Figure size 432x288 with 1 Axes>"
      ]
     },
     "metadata": {
      "needs_background": "light"
     },
     "output_type": "display_data"
    }
   ],
   "source": [
    "plt.hist(test['sbertSimilarity_score'], bins=50)\n",
    "# plt.savefig('true_plot.pdf')\n",
    "plt.title(\"Score distribution of Test points\")\n",
    "plt.show()"
   ]
  },
  {
   "cell_type": "code",
   "execution_count": 59,
   "id": "dc7c30ab",
   "metadata": {},
   "outputs": [],
   "source": [
    "label2 = []\n",
    "thresh = 0.65\n",
    "for idx in range(len(test)):\n",
    "#     print(t['sbertSimilarity_score_true'][idx])\n",
    "    if test['sbertSimilarity_score'][idx] > thresh:\n",
    "        label2.append(1)\n",
    "    else:\n",
    "        label2.append(0)"
   ]
  },
  {
   "cell_type": "code",
   "execution_count": 60,
   "id": "c2b6bee4",
   "metadata": {},
   "outputs": [],
   "source": [
    "label2.extend(label)\n",
    "gt2 = list(test['label'])\n",
    "gt2.extend(gt)"
   ]
  },
  {
   "cell_type": "code",
   "execution_count": 61,
   "id": "61b2bbe5",
   "metadata": {},
   "outputs": [
    {
     "data": {
      "text/plain": [
       "(0.9012908124525436, 0.8998459167950693)"
      ]
     },
     "execution_count": 61,
     "metadata": {},
     "output_type": "execute_result"
    }
   ],
   "source": [
    "accuracy_score(gt2, label2), f1_score(gt2, label2)"
   ]
  },
  {
   "cell_type": "code",
   "execution_count": null,
   "id": "d12f38d6",
   "metadata": {},
   "outputs": [],
   "source": []
  },
  {
   "cell_type": "code",
   "execution_count": 63,
   "id": "1395f039",
   "metadata": {},
   "outputs": [],
   "source": [
    "true_test = test[test['label'] == 1].reset_index()\n",
    "fake_test =  test[test['label'] == 0].reset_index()"
   ]
  },
  {
   "cell_type": "code",
   "execution_count": 64,
   "id": "14d7a181",
   "metadata": {},
   "outputs": [
    {
     "data": {
      "image/png": "[encoded data removed]",
      "text/plain": [
       "<Figure size 432x288 with 1 Axes>"
      ]
     },
     "metadata": {
      "needs_background": "light"
     },
     "output_type": "display_data"
    }
   ],
   "source": [
    "plt.hist(true_test['sbertSimilarity_score'], bins=50)\n",
    "plt.savefig('true_plot.pdf')\n",
    "plt.title(\"Score distribution of True points in dataset 2\")\n",
    "plt.show()"
   ]
  },
  {
   "cell_type": "code",
   "execution_count": 84,
   "id": "95b51c39",
   "metadata": {},
   "outputs": [
    {
     "data": {
      "image/png": "[encoded data removed]",
      "text/plain": [
       "<Figure size 432x288 with 1 Axes>"
      ]
     },
     "metadata": {
      "needs_background": "light"
     },
     "output_type": "display_data"
    }
   ],
   "source": [
    "plt.hist(fake_test['sbertSimilarity_score'], bins=50)\n",
    "plt.savefig('true_plot.pdf')\n",
    "plt.title(\"Score distribution of Fake points in dataset 2\")\n",
    "plt.show()"
   ]
  },
  {
   "cell_type": "code",
   "execution_count": 175,
   "id": "09ab7776",
   "metadata": {},
   "outputs": [
    {
     "data": {
      "text/html": [
       "<div>\n",
       "<style scoped>\n",
       "    .dataframe tbody tr th:only-of-type {\n",
       "        vertical-align: middle;\n",
       "    }\n",
       "\n",
       "    .dataframe tbody tr th {\n",
       "        vertical-align: top;\n",
       "    }\n",
       "\n",
       "    .dataframe thead th {\n",
       "        text-align: right;\n",
       "    }\n",
       "</style>\n",
       "<table border=\"1\" class=\"dataframe\">\n",
       "  <thead>\n",
       "    <tr style=\"text-align: right;\">\n",
       "      <th></th>\n",
       "      <th>level_0</th>\n",
       "      <th>index</th>\n",
       "      <th>metric1_score</th>\n",
       "      <th>sentence_bleu_score</th>\n",
       "      <th>sbertSimilarity_score</th>\n",
       "      <th>label</th>\n",
       "    </tr>\n",
       "  </thead>\n",
       "  <tbody>\n",
       "    <tr>\n",
       "      <th>count</th>\n",
       "      <td>177.000000</td>\n",
       "      <td>177.000000</td>\n",
       "      <td>177.000000</td>\n",
       "      <td>177.000000</td>\n",
       "      <td>177.000000</td>\n",
       "      <td>177.0</td>\n",
       "    </tr>\n",
       "    <tr>\n",
       "      <th>mean</th>\n",
       "      <td>186.135593</td>\n",
       "      <td>197.435028</td>\n",
       "      <td>34.367686</td>\n",
       "      <td>0.351219</td>\n",
       "      <td>0.691661</td>\n",
       "      <td>1.0</td>\n",
       "    </tr>\n",
       "    <tr>\n",
       "      <th>std</th>\n",
       "      <td>104.272282</td>\n",
       "      <td>108.285384</td>\n",
       "      <td>25.197585</td>\n",
       "      <td>0.250825</td>\n",
       "      <td>0.171974</td>\n",
       "      <td>0.0</td>\n",
       "    </tr>\n",
       "    <tr>\n",
       "      <th>min</th>\n",
       "      <td>5.000000</td>\n",
       "      <td>5.000000</td>\n",
       "      <td>0.000000</td>\n",
       "      <td>0.000000</td>\n",
       "      <td>0.199771</td>\n",
       "      <td>1.0</td>\n",
       "    </tr>\n",
       "    <tr>\n",
       "      <th>25%</th>\n",
       "      <td>97.000000</td>\n",
       "      <td>104.000000</td>\n",
       "      <td>6.250000</td>\n",
       "      <td>0.111111</td>\n",
       "      <td>0.560879</td>\n",
       "      <td>1.0</td>\n",
       "    </tr>\n",
       "    <tr>\n",
       "      <th>50%</th>\n",
       "      <td>172.000000</td>\n",
       "      <td>185.000000</td>\n",
       "      <td>38.461538</td>\n",
       "      <td>0.400000</td>\n",
       "      <td>0.727630</td>\n",
       "      <td>1.0</td>\n",
       "    </tr>\n",
       "    <tr>\n",
       "      <th>75%</th>\n",
       "      <td>275.000000</td>\n",
       "      <td>290.000000</td>\n",
       "      <td>50.000000</td>\n",
       "      <td>0.533333</td>\n",
       "      <td>0.820945</td>\n",
       "      <td>1.0</td>\n",
       "    </tr>\n",
       "    <tr>\n",
       "      <th>max</th>\n",
       "      <td>379.000000</td>\n",
       "      <td>394.000000</td>\n",
       "      <td>85.714286</td>\n",
       "      <td>0.857143</td>\n",
       "      <td>0.945091</td>\n",
       "      <td>1.0</td>\n",
       "    </tr>\n",
       "  </tbody>\n",
       "</table>\n",
       "</div>"
      ],
      "text/plain": [
       "          level_0       index  metric1_score  sentence_bleu_score  \\\n",
       "count  177.000000  177.000000     177.000000           177.000000   \n",
       "mean   186.135593  197.435028      34.367686             0.351219   \n",
       "std    104.272282  108.285384      25.197585             0.250825   \n",
       "min      5.000000    5.000000       0.000000             0.000000   \n",
       "25%     97.000000  104.000000       6.250000             0.111111   \n",
       "50%    172.000000  185.000000      38.461538             0.400000   \n",
       "75%    275.000000  290.000000      50.000000             0.533333   \n",
       "max    379.000000  394.000000      85.714286             0.857143   \n",
       "\n",
       "       sbertSimilarity_score  label  \n",
       "count             177.000000  177.0  \n",
       "mean                0.691661    1.0  \n",
       "std                 0.171974    0.0  \n",
       "min                 0.199771    1.0  \n",
       "25%                 0.560879    1.0  \n",
       "50%                 0.727630    1.0  \n",
       "75%                 0.820945    1.0  \n",
       "max                 0.945091    1.0  "
      ]
     },
     "execution_count": 175,
     "metadata": {},
     "output_type": "execute_result"
    }
   ],
   "source": [
    "true_test.describe()"
   ]
  },
  {
   "cell_type": "code",
   "execution_count": 176,
   "id": "def163ce",
   "metadata": {},
   "outputs": [
    {
     "data": {
      "text/html": [
       "<div>\n",
       "<style scoped>\n",
       "    .dataframe tbody tr th:only-of-type {\n",
       "        vertical-align: middle;\n",
       "    }\n",
       "\n",
       "    .dataframe tbody tr th {\n",
       "        vertical-align: top;\n",
       "    }\n",
       "\n",
       "    .dataframe thead th {\n",
       "        text-align: right;\n",
       "    }\n",
       "</style>\n",
       "<table border=\"1\" class=\"dataframe\">\n",
       "  <thead>\n",
       "    <tr style=\"text-align: right;\">\n",
       "      <th></th>\n",
       "      <th>level_0</th>\n",
       "      <th>index</th>\n",
       "      <th>metric1_score</th>\n",
       "      <th>sentence_bleu_score</th>\n",
       "      <th>sbertSimilarity_score</th>\n",
       "      <th>label</th>\n",
       "    </tr>\n",
       "  </thead>\n",
       "  <tbody>\n",
       "    <tr>\n",
       "      <th>count</th>\n",
       "      <td>204.000000</td>\n",
       "      <td>204.000000</td>\n",
       "      <td>204.000000</td>\n",
       "      <td>204.000000</td>\n",
       "      <td>204.000000</td>\n",
       "      <td>204.0</td>\n",
       "    </tr>\n",
       "    <tr>\n",
       "      <th>mean</th>\n",
       "      <td>193.352941</td>\n",
       "      <td>204.500000</td>\n",
       "      <td>4.161889</td>\n",
       "      <td>0.045053</td>\n",
       "      <td>0.465361</td>\n",
       "      <td>0.0</td>\n",
       "    </tr>\n",
       "    <tr>\n",
       "      <th>std</th>\n",
       "      <td>115.120339</td>\n",
       "      <td>119.799607</td>\n",
       "      <td>12.111985</td>\n",
       "      <td>0.124372</td>\n",
       "      <td>0.158824</td>\n",
       "      <td>0.0</td>\n",
       "    </tr>\n",
       "    <tr>\n",
       "      <th>min</th>\n",
       "      <td>0.000000</td>\n",
       "      <td>0.000000</td>\n",
       "      <td>0.000000</td>\n",
       "      <td>0.000000</td>\n",
       "      <td>0.064030</td>\n",
       "      <td>0.0</td>\n",
       "    </tr>\n",
       "    <tr>\n",
       "      <th>25%</th>\n",
       "      <td>92.250000</td>\n",
       "      <td>99.250000</td>\n",
       "      <td>0.000000</td>\n",
       "      <td>0.000000</td>\n",
       "      <td>0.382203</td>\n",
       "      <td>0.0</td>\n",
       "    </tr>\n",
       "    <tr>\n",
       "      <th>50%</th>\n",
       "      <td>202.500000</td>\n",
       "      <td>217.500000</td>\n",
       "      <td>0.000000</td>\n",
       "      <td>0.000000</td>\n",
       "      <td>0.481062</td>\n",
       "      <td>0.0</td>\n",
       "    </tr>\n",
       "    <tr>\n",
       "      <th>75%</th>\n",
       "      <td>293.500000</td>\n",
       "      <td>308.500000</td>\n",
       "      <td>0.000000</td>\n",
       "      <td>0.000000</td>\n",
       "      <td>0.543538</td>\n",
       "      <td>0.0</td>\n",
       "    </tr>\n",
       "    <tr>\n",
       "      <th>max</th>\n",
       "      <td>380.000000</td>\n",
       "      <td>395.000000</td>\n",
       "      <td>80.000000</td>\n",
       "      <td>0.800000</td>\n",
       "      <td>0.893425</td>\n",
       "      <td>0.0</td>\n",
       "    </tr>\n",
       "  </tbody>\n",
       "</table>\n",
       "</div>"
      ],
      "text/plain": [
       "          level_0       index  metric1_score  sentence_bleu_score  \\\n",
       "count  204.000000  204.000000     204.000000           204.000000   \n",
       "mean   193.352941  204.500000       4.161889             0.045053   \n",
       "std    115.120339  119.799607      12.111985             0.124372   \n",
       "min      0.000000    0.000000       0.000000             0.000000   \n",
       "25%     92.250000   99.250000       0.000000             0.000000   \n",
       "50%    202.500000  217.500000       0.000000             0.000000   \n",
       "75%    293.500000  308.500000       0.000000             0.000000   \n",
       "max    380.000000  395.000000      80.000000             0.800000   \n",
       "\n",
       "       sbertSimilarity_score  label  \n",
       "count             204.000000  204.0  \n",
       "mean                0.465361    0.0  \n",
       "std                 0.158824    0.0  \n",
       "min                 0.064030    0.0  \n",
       "25%                 0.382203    0.0  \n",
       "50%                 0.481062    0.0  \n",
       "75%                 0.543538    0.0  \n",
       "max                 0.893425    0.0  "
      ]
     },
     "execution_count": 176,
     "metadata": {},
     "output_type": "execute_result"
    }
   ],
   "source": [
    "fake_test.describe()"
   ]
  },
  {
   "cell_type": "code",
   "execution_count": null,
   "id": "e7133f59",
   "metadata": {},
   "outputs": [],
   "source": []
  }
 ],
 "metadata": {
  "kernelspec": {
   "display_name": "Python 3 (ipykernel)",
   "language": "python",
   "name": "python3"
  },
  "language_info": {
   "codemirror_mode": {
    "name": "ipython",
    "version": 3
   },
   "file_extension": ".py",
   "mimetype": "text/x-python",
   "name": "python",
   "nbconvert_exporter": "python",
   "pygments_lexer": "ipython3",
   "version": "3.9.7"
  }
 },
 "nbformat": 4,
 "nbformat_minor": 5
}
