{
 "cells": [
  {
   "cell_type": "code",
   "execution_count": 50,
   "id": "97de9a0a",
   "metadata": {},
   "outputs": [],
   "source": [
    "import pandas as pd"
   ]
  },
  {
   "cell_type": "code",
   "execution_count": 51,
   "id": "1087caa4",
   "metadata": {},
   "outputs": [],
   "source": [
    "t1 = pd.read_csv('./Scores/score_true_1.csv')\n",
    "t2 = pd.read_csv('./Scores/score_true_2.csv')\n",
    "t3 = pd.read_csv('./Scores/score_true_3.csv')\n",
    "t4 = pd.read_csv('./Scores/score_true_4.csv')\n",
    "t5 = pd.read_csv('./Scores/score_true_5.csv')"
   ]
  },
  {
   "cell_type": "code",
   "execution_count": 52,
   "id": "c3983209",
   "metadata": {},
   "outputs": [],
   "source": [
    "t = t1.append(t2, ignore_index=True)\n",
    "t = t.append(t3, ignore_index=True)\n",
    "t = t.append(t4, ignore_index=True)\n",
    "t = t.append(t5, ignore_index=True)"
   ]
  },
  {
   "cell_type": "code",
   "execution_count": 53,
   "id": "345d6374",
   "metadata": {},
   "outputs": [],
   "source": [
    "f1 = pd.read_csv('./Scores/score_fake_1.csv')\n",
    "f2 = pd.read_csv('./Scores/score_fake_2.csv')\n",
    "f3 = pd.read_csv('./Scores/score_fake_3.csv')\n",
    "f4 = pd.read_csv('./Scores/score_fake_4.csv')\n",
    "f5 = pd.read_csv('./Scores/score_fake_5_final.csv')"
   ]
  },
  {
   "cell_type": "code",
   "execution_count": 54,
   "id": "e8e1ad5b",
   "metadata": {},
   "outputs": [],
   "source": [
    "f = f1.append(f2, ignore_index=True)\n",
    "f = f.append(f3, ignore_index=True)\n",
    "f = f.append(f4, ignore_index=True)\n",
    "f = f.append(f5, ignore_index=True)"
   ]
  },
  {
   "cell_type": "code",
   "execution_count": 55,
   "id": "b1518a90",
   "metadata": {},
   "outputs": [
    {
     "data": {
      "text/html": [
       "<div>\n",
       "<style scoped>\n",
       "    .dataframe tbody tr th:only-of-type {\n",
       "        vertical-align: middle;\n",
       "    }\n",
       "\n",
       "    .dataframe tbody tr th {\n",
       "        vertical-align: top;\n",
       "    }\n",
       "\n",
       "    .dataframe thead th {\n",
       "        text-align: right;\n",
       "    }\n",
       "</style>\n",
       "<table border=\"1\" class=\"dataframe\">\n",
       "  <thead>\n",
       "    <tr style=\"text-align: right;\">\n",
       "      <th></th>\n",
       "      <th>metric1_score_true</th>\n",
       "      <th>sentence_bleu_score_true</th>\n",
       "      <th>sbertSimilarity_score_true</th>\n",
       "    </tr>\n",
       "  </thead>\n",
       "  <tbody>\n",
       "    <tr>\n",
       "      <th>0</th>\n",
       "      <td>72.727273</td>\n",
       "      <td>0.727273</td>\n",
       "      <td>0.953870</td>\n",
       "    </tr>\n",
       "    <tr>\n",
       "      <th>1</th>\n",
       "      <td>36.363636</td>\n",
       "      <td>0.363636</td>\n",
       "      <td>0.774581</td>\n",
       "    </tr>\n",
       "    <tr>\n",
       "      <th>2</th>\n",
       "      <td>63.636364</td>\n",
       "      <td>0.636364</td>\n",
       "      <td>0.784848</td>\n",
       "    </tr>\n",
       "    <tr>\n",
       "      <th>3</th>\n",
       "      <td>35.714286</td>\n",
       "      <td>0.357143</td>\n",
       "      <td>0.656921</td>\n",
       "    </tr>\n",
       "    <tr>\n",
       "      <th>4</th>\n",
       "      <td>50.000000</td>\n",
       "      <td>0.500000</td>\n",
       "      <td>0.835293</td>\n",
       "    </tr>\n",
       "    <tr>\n",
       "      <th>...</th>\n",
       "      <td>...</td>\n",
       "      <td>...</td>\n",
       "      <td>...</td>\n",
       "    </tr>\n",
       "    <tr>\n",
       "      <th>491</th>\n",
       "      <td>50.000000</td>\n",
       "      <td>0.500000</td>\n",
       "      <td>0.862707</td>\n",
       "    </tr>\n",
       "    <tr>\n",
       "      <th>492</th>\n",
       "      <td>50.000000</td>\n",
       "      <td>0.500000</td>\n",
       "      <td>0.914262</td>\n",
       "    </tr>\n",
       "    <tr>\n",
       "      <th>493</th>\n",
       "      <td>50.000000</td>\n",
       "      <td>0.500000</td>\n",
       "      <td>0.962881</td>\n",
       "    </tr>\n",
       "    <tr>\n",
       "      <th>494</th>\n",
       "      <td>50.000000</td>\n",
       "      <td>0.500000</td>\n",
       "      <td>0.759484</td>\n",
       "    </tr>\n",
       "    <tr>\n",
       "      <th>495</th>\n",
       "      <td>52.941176</td>\n",
       "      <td>0.529412</td>\n",
       "      <td>0.830213</td>\n",
       "    </tr>\n",
       "  </tbody>\n",
       "</table>\n",
       "<p>496 rows × 3 columns</p>\n",
       "</div>"
      ],
      "text/plain": [
       "     metric1_score_true  sentence_bleu_score_true  sbertSimilarity_score_true\n",
       "0             72.727273                  0.727273                    0.953870\n",
       "1             36.363636                  0.363636                    0.774581\n",
       "2             63.636364                  0.636364                    0.784848\n",
       "3             35.714286                  0.357143                    0.656921\n",
       "4             50.000000                  0.500000                    0.835293\n",
       "..                  ...                       ...                         ...\n",
       "491           50.000000                  0.500000                    0.862707\n",
       "492           50.000000                  0.500000                    0.914262\n",
       "493           50.000000                  0.500000                    0.962881\n",
       "494           50.000000                  0.500000                    0.759484\n",
       "495           52.941176                  0.529412                    0.830213\n",
       "\n",
       "[496 rows x 3 columns]"
      ]
     },
     "execution_count": 55,
     "metadata": {},
     "output_type": "execute_result"
    }
   ],
   "source": [
    "t"
   ]
  },
  {
   "cell_type": "code",
   "execution_count": 56,
   "id": "4e127500",
   "metadata": {},
   "outputs": [
    {
     "data": {
      "text/html": [
       "<div>\n",
       "<style scoped>\n",
       "    .dataframe tbody tr th:only-of-type {\n",
       "        vertical-align: middle;\n",
       "    }\n",
       "\n",
       "    .dataframe tbody tr th {\n",
       "        vertical-align: top;\n",
       "    }\n",
       "\n",
       "    .dataframe thead th {\n",
       "        text-align: right;\n",
       "    }\n",
       "</style>\n",
       "<table border=\"1\" class=\"dataframe\">\n",
       "  <thead>\n",
       "    <tr style=\"text-align: right;\">\n",
       "      <th></th>\n",
       "      <th>metric1_score_true</th>\n",
       "      <th>sentence_bleu_score_true</th>\n",
       "      <th>sbertSimilarity_score_true</th>\n",
       "    </tr>\n",
       "  </thead>\n",
       "  <tbody>\n",
       "    <tr>\n",
       "      <th>0</th>\n",
       "      <td>7.692308</td>\n",
       "      <td>0.076923</td>\n",
       "      <td>0.466115</td>\n",
       "    </tr>\n",
       "    <tr>\n",
       "      <th>1</th>\n",
       "      <td>0.000000</td>\n",
       "      <td>0.000000</td>\n",
       "      <td>0.473237</td>\n",
       "    </tr>\n",
       "    <tr>\n",
       "      <th>2</th>\n",
       "      <td>11.111111</td>\n",
       "      <td>0.111111</td>\n",
       "      <td>0.431902</td>\n",
       "    </tr>\n",
       "    <tr>\n",
       "      <th>3</th>\n",
       "      <td>0.000000</td>\n",
       "      <td>0.000000</td>\n",
       "      <td>0.458282</td>\n",
       "    </tr>\n",
       "    <tr>\n",
       "      <th>4</th>\n",
       "      <td>0.000000</td>\n",
       "      <td>0.052632</td>\n",
       "      <td>0.428630</td>\n",
       "    </tr>\n",
       "    <tr>\n",
       "      <th>...</th>\n",
       "      <td>...</td>\n",
       "      <td>...</td>\n",
       "      <td>...</td>\n",
       "    </tr>\n",
       "    <tr>\n",
       "      <th>435</th>\n",
       "      <td>18.181818</td>\n",
       "      <td>0.181818</td>\n",
       "      <td>0.551623</td>\n",
       "    </tr>\n",
       "    <tr>\n",
       "      <th>436</th>\n",
       "      <td>0.000000</td>\n",
       "      <td>0.000000</td>\n",
       "      <td>0.569780</td>\n",
       "    </tr>\n",
       "    <tr>\n",
       "      <th>437</th>\n",
       "      <td>0.000000</td>\n",
       "      <td>0.000000</td>\n",
       "      <td>0.386376</td>\n",
       "    </tr>\n",
       "    <tr>\n",
       "      <th>438</th>\n",
       "      <td>0.000000</td>\n",
       "      <td>0.000000</td>\n",
       "      <td>0.446706</td>\n",
       "    </tr>\n",
       "    <tr>\n",
       "      <th>439</th>\n",
       "      <td>0.000000</td>\n",
       "      <td>0.000000</td>\n",
       "      <td>0.340005</td>\n",
       "    </tr>\n",
       "  </tbody>\n",
       "</table>\n",
       "<p>440 rows × 3 columns</p>\n",
       "</div>"
      ],
      "text/plain": [
       "     metric1_score_true  sentence_bleu_score_true  sbertSimilarity_score_true\n",
       "0              7.692308                  0.076923                    0.466115\n",
       "1              0.000000                  0.000000                    0.473237\n",
       "2             11.111111                  0.111111                    0.431902\n",
       "3              0.000000                  0.000000                    0.458282\n",
       "4              0.000000                  0.052632                    0.428630\n",
       "..                  ...                       ...                         ...\n",
       "435           18.181818                  0.181818                    0.551623\n",
       "436            0.000000                  0.000000                    0.569780\n",
       "437            0.000000                  0.000000                    0.386376\n",
       "438            0.000000                  0.000000                    0.446706\n",
       "439            0.000000                  0.000000                    0.340005\n",
       "\n",
       "[440 rows x 3 columns]"
      ]
     },
     "execution_count": 56,
     "metadata": {},
     "output_type": "execute_result"
    }
   ],
   "source": [
    "f"
   ]
  },
  {
   "cell_type": "code",
   "execution_count": 57,
   "id": "e76c9435",
   "metadata": {},
   "outputs": [
    {
     "data": {
      "text/html": [
       "<div>\n",
       "<style scoped>\n",
       "    .dataframe tbody tr th:only-of-type {\n",
       "        vertical-align: middle;\n",
       "    }\n",
       "\n",
       "    .dataframe tbody tr th {\n",
       "        vertical-align: top;\n",
       "    }\n",
       "\n",
       "    .dataframe thead th {\n",
       "        text-align: right;\n",
       "    }\n",
       "</style>\n",
       "<table border=\"1\" class=\"dataframe\">\n",
       "  <thead>\n",
       "    <tr style=\"text-align: right;\">\n",
       "      <th></th>\n",
       "      <th>metric1_score_true</th>\n",
       "      <th>sentence_bleu_score_true</th>\n",
       "      <th>sbertSimilarity_score_true</th>\n",
       "    </tr>\n",
       "  </thead>\n",
       "  <tbody>\n",
       "    <tr>\n",
       "      <th>count</th>\n",
       "      <td>440.000000</td>\n",
       "      <td>440.000000</td>\n",
       "      <td>440.000000</td>\n",
       "    </tr>\n",
       "    <tr>\n",
       "      <th>mean</th>\n",
       "      <td>5.322903</td>\n",
       "      <td>0.066918</td>\n",
       "      <td>0.481351</td>\n",
       "    </tr>\n",
       "    <tr>\n",
       "      <th>std</th>\n",
       "      <td>9.264591</td>\n",
       "      <td>0.102923</td>\n",
       "      <td>0.089222</td>\n",
       "    </tr>\n",
       "    <tr>\n",
       "      <th>min</th>\n",
       "      <td>0.000000</td>\n",
       "      <td>0.000000</td>\n",
       "      <td>0.252077</td>\n",
       "    </tr>\n",
       "    <tr>\n",
       "      <th>25%</th>\n",
       "      <td>0.000000</td>\n",
       "      <td>0.000000</td>\n",
       "      <td>0.419097</td>\n",
       "    </tr>\n",
       "    <tr>\n",
       "      <th>50%</th>\n",
       "      <td>0.000000</td>\n",
       "      <td>0.000000</td>\n",
       "      <td>0.473283</td>\n",
       "    </tr>\n",
       "    <tr>\n",
       "      <th>75%</th>\n",
       "      <td>8.333333</td>\n",
       "      <td>0.100000</td>\n",
       "      <td>0.537061</td>\n",
       "    </tr>\n",
       "    <tr>\n",
       "      <th>max</th>\n",
       "      <td>66.666667</td>\n",
       "      <td>0.666667</td>\n",
       "      <td>0.851502</td>\n",
       "    </tr>\n",
       "  </tbody>\n",
       "</table>\n",
       "</div>"
      ],
      "text/plain": [
       "       metric1_score_true  sentence_bleu_score_true  \\\n",
       "count          440.000000                440.000000   \n",
       "mean             5.322903                  0.066918   \n",
       "std              9.264591                  0.102923   \n",
       "min              0.000000                  0.000000   \n",
       "25%              0.000000                  0.000000   \n",
       "50%              0.000000                  0.000000   \n",
       "75%              8.333333                  0.100000   \n",
       "max             66.666667                  0.666667   \n",
       "\n",
       "       sbertSimilarity_score_true  \n",
       "count                  440.000000  \n",
       "mean                     0.481351  \n",
       "std                      0.089222  \n",
       "min                      0.252077  \n",
       "25%                      0.419097  \n",
       "50%                      0.473283  \n",
       "75%                      0.537061  \n",
       "max                      0.851502  "
      ]
     },
     "execution_count": 57,
     "metadata": {},
     "output_type": "execute_result"
    }
   ],
   "source": [
    "f.describe()"
   ]
  },
  {
   "cell_type": "code",
   "execution_count": 58,
   "id": "d8d7dc19",
   "metadata": {},
   "outputs": [
    {
     "data": {
      "text/html": [
       "<div>\n",
       "<style scoped>\n",
       "    .dataframe tbody tr th:only-of-type {\n",
       "        vertical-align: middle;\n",
       "    }\n",
       "\n",
       "    .dataframe tbody tr th {\n",
       "        vertical-align: top;\n",
       "    }\n",
       "\n",
       "    .dataframe thead th {\n",
       "        text-align: right;\n",
       "    }\n",
       "</style>\n",
       "<table border=\"1\" class=\"dataframe\">\n",
       "  <thead>\n",
       "    <tr style=\"text-align: right;\">\n",
       "      <th></th>\n",
       "      <th>metric1_score_true</th>\n",
       "      <th>sentence_bleu_score_true</th>\n",
       "      <th>sbertSimilarity_score_true</th>\n",
       "    </tr>\n",
       "  </thead>\n",
       "  <tbody>\n",
       "    <tr>\n",
       "      <th>count</th>\n",
       "      <td>496.000000</td>\n",
       "      <td>496.000000</td>\n",
       "      <td>496.000000</td>\n",
       "    </tr>\n",
       "    <tr>\n",
       "      <th>mean</th>\n",
       "      <td>56.576971</td>\n",
       "      <td>0.572698</td>\n",
       "      <td>0.834562</td>\n",
       "    </tr>\n",
       "    <tr>\n",
       "      <th>std</th>\n",
       "      <td>22.492661</td>\n",
       "      <td>0.220917</td>\n",
       "      <td>0.116151</td>\n",
       "    </tr>\n",
       "    <tr>\n",
       "      <th>min</th>\n",
       "      <td>0.000000</td>\n",
       "      <td>0.000000</td>\n",
       "      <td>0.356027</td>\n",
       "    </tr>\n",
       "    <tr>\n",
       "      <th>25%</th>\n",
       "      <td>46.666667</td>\n",
       "      <td>0.470588</td>\n",
       "      <td>0.779659</td>\n",
       "    </tr>\n",
       "    <tr>\n",
       "      <th>50%</th>\n",
       "      <td>58.114035</td>\n",
       "      <td>0.600000</td>\n",
       "      <td>0.845111</td>\n",
       "    </tr>\n",
       "    <tr>\n",
       "      <th>75%</th>\n",
       "      <td>66.666667</td>\n",
       "      <td>0.685033</td>\n",
       "      <td>0.914260</td>\n",
       "    </tr>\n",
       "    <tr>\n",
       "      <th>max</th>\n",
       "      <td>100.000000</td>\n",
       "      <td>1.000000</td>\n",
       "      <td>1.000000</td>\n",
       "    </tr>\n",
       "  </tbody>\n",
       "</table>\n",
       "</div>"
      ],
      "text/plain": [
       "       metric1_score_true  sentence_bleu_score_true  \\\n",
       "count          496.000000                496.000000   \n",
       "mean            56.576971                  0.572698   \n",
       "std             22.492661                  0.220917   \n",
       "min              0.000000                  0.000000   \n",
       "25%             46.666667                  0.470588   \n",
       "50%             58.114035                  0.600000   \n",
       "75%             66.666667                  0.685033   \n",
       "max            100.000000                  1.000000   \n",
       "\n",
       "       sbertSimilarity_score_true  \n",
       "count                  496.000000  \n",
       "mean                     0.834562  \n",
       "std                      0.116151  \n",
       "min                      0.356027  \n",
       "25%                      0.779659  \n",
       "50%                      0.845111  \n",
       "75%                      0.914260  \n",
       "max                      1.000000  "
      ]
     },
     "execution_count": 58,
     "metadata": {},
     "output_type": "execute_result"
    }
   ],
   "source": [
    "t.describe()"
   ]
  },
  {
   "cell_type": "code",
   "execution_count": 59,
   "id": "f87c57a9",
   "metadata": {},
   "outputs": [],
   "source": [
    "label = []\n",
    "gt = []\n",
    "for idx in range(len(t)):\n",
    "    gt.append(1)\n",
    "#     print(t['sbertSimilarity_score_true'][idx])\n",
    "    if t['sbertSimilarity_score_true'][idx] > 0.75:\n",
    "        label.append(1)\n",
    "    else:\n",
    "        label.append(0)"
   ]
  },
  {
   "cell_type": "code",
   "execution_count": 60,
   "id": "bec7eee4",
   "metadata": {},
   "outputs": [],
   "source": [
    "for idx in range(len(f)):\n",
    "    gt.append(0)\n",
    "#     print(f['sbertSimilarity_score_true'][idx])\n",
    "    if f['sbertSimilarity_score_true'][idx] > 0.75:\n",
    "        label.append(1)\n",
    "    else:\n",
    "        label.append(0)"
   ]
  },
  {
   "cell_type": "code",
   "execution_count": 61,
   "id": "f5f28f00",
   "metadata": {},
   "outputs": [
    {
     "data": {
      "text/plain": [
       "(936, 936)"
      ]
     },
     "execution_count": 61,
     "metadata": {},
     "output_type": "execute_result"
    }
   ],
   "source": [
    "len(label), len(gt)"
   ]
  },
  {
   "cell_type": "code",
   "execution_count": 62,
   "id": "d019088d",
   "metadata": {},
   "outputs": [
    {
     "data": {
      "text/plain": [
       "(429, 496)"
      ]
     },
     "execution_count": 62,
     "metadata": {},
     "output_type": "execute_result"
    }
   ],
   "source": [
    "sum(acc), sum(gt)"
   ]
  },
  {
   "cell_type": "code",
   "execution_count": 63,
   "id": "2ae2c621",
   "metadata": {},
   "outputs": [],
   "source": [
    "from sklearn.metrics import accuracy_score\n",
    "from sklearn.metrics import confusion_matrix\n",
    "from sklearn.metrics import f1_score"
   ]
  },
  {
   "cell_type": "code",
   "execution_count": 64,
   "id": "7516ee50",
   "metadata": {},
   "outputs": [
    {
     "data": {
      "text/plain": [
       "0.9027777777777778"
      ]
     },
     "execution_count": 64,
     "metadata": {},
     "output_type": "execute_result"
    }
   ],
   "source": [
    "accuracy_score(gt, label)"
   ]
  },
  {
   "cell_type": "code",
   "execution_count": 65,
   "id": "fa5bb39b",
   "metadata": {},
   "outputs": [
    {
     "data": {
      "text/plain": [
       "array([[434,   6],\n",
       "       [ 85, 411]])"
      ]
     },
     "execution_count": 65,
     "metadata": {},
     "output_type": "execute_result"
    }
   ],
   "source": [
    "confusion_matrix(gt, label)"
   ]
  },
  {
   "cell_type": "code",
   "execution_count": 66,
   "id": "1cb7ae05",
   "metadata": {},
   "outputs": [
    {
     "data": {
      "text/plain": [
       "0.900328587075575"
      ]
     },
     "execution_count": 66,
     "metadata": {},
     "output_type": "execute_result"
    }
   ],
   "source": [
    "f1_score(gt, label)"
   ]
  },
  {
   "cell_type": "code",
   "execution_count": null,
   "id": "52a32f44",
   "metadata": {},
   "outputs": [],
   "source": []
  },
  {
   "cell_type": "code",
   "execution_count": 67,
   "id": "badd0d8e",
   "metadata": {},
   "outputs": [],
   "source": [
    "import matplotlib.pyplot as plt\n",
    "import numpy as np"
   ]
  },
  {
   "cell_type": "code",
   "execution_count": 78,
   "id": "db1b46bd",
   "metadata": {},
   "outputs": [
    {
     "data": {
      "image/png": "[encoded data removed]",
      "text/plain": [
       "<Figure size 432x288 with 1 Axes>"
      ]
     },
     "metadata": {
      "needs_background": "light"
     },
     "output_type": "display_data"
    }
   ],
   "source": [
    "plt.hist(t['sbertSimilarity_score_true'], bins=50)\n",
    "plt.savefig('true_plot.pdf')\n",
    "plt.title(\"Score distribution of True points\")\n",
    "plt.show()"
   ]
  },
  {
   "cell_type": "code",
   "execution_count": 79,
   "id": "7e37cbd9",
   "metadata": {},
   "outputs": [
    {
     "data": {
      "image/png": "[encoded data removed]",
      "text/plain": [
       "<Figure size 432x288 with 1 Axes>"
      ]
     },
     "metadata": {
      "needs_background": "light"
     },
     "output_type": "display_data"
    }
   ],
   "source": [
    "plt.hist(f['sbertSimilarity_score_true'], bins=50)\n",
    "plt.savefig('false_plot.pdf')\n",
    "plt.title(\"Score distribution of False points\")\n",
    "plt.show()"
   ]
  },
  {
   "cell_type": "code",
   "execution_count": null,
   "id": "8101e0f6",
   "metadata": {},
   "outputs": [],
   "source": []
  }
 ],
 "metadata": {
  "kernelspec": {
   "display_name": "Python 3 (ipykernel)",
   "language": "python",
   "name": "python3"
  },
  "language_info": {
   "codemirror_mode": {
    "name": "ipython",
    "version": 3
   },
   "file_extension": ".py",
   "mimetype": "text/x-python",
   "name": "python",
   "nbconvert_exporter": "python",
   "pygments_lexer": "ipython3",
   "version": "3.9.7"
  }
 },
 "nbformat": 4,
 "nbformat_minor": 5
}
